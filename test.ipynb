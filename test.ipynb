#%% Change working directory from the workspace root to the ipynb file location. Turn this addition off with the DataScience.changeDirOnImportExport setting
import os
try:
	os.chdir(os.path.join(os.getcwd(), 'research'))
	print(os.getcwd())
except:
	pass



#%%
import os

#%%
print('hwllo senthfr ensure ')

#%%
from ensure import ensure_annotations

#%%
@ensure_annotations
def add_num(x:int,y:int)->int:
	return x*y

#%%
add_num(x=3,y="4")

#%%
